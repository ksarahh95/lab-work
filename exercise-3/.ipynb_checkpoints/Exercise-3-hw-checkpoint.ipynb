{
 "cells": [
  {
   "cell_type": "code",
   "execution_count": 4,
   "metadata": {
    "collapsed": true
   },
   "outputs": [],
   "source": [
    "a = 3\n",
    "b = 17\n",
    "c = a + b\n",
    "favorite_animal = \"dog\"\n",
    "favorite_dinners = [\"pasta\",\"pizza\",\"sushi\"]\n",
    "num_fav_dinners = len (favorite_dinners)"
   ]
  },
  {
   "cell_type": "code",
   "execution_count": 19,
   "metadata": {
    "collapsed": true
   },
   "outputs": [],
   "source": [
    "def hw3_function(integer):\n",
    "    if integer<5:\n",
    "        print (\"Brr! It's cold!\")\n",
    "    elif integer>25:\n",
    "        print (\"It's pretty warm!\")\n",
    "    elif 5<integer<25:\n",
    "        print (\"What a pleasant temperature!\")\n",
    "    else:\n",
    "        print (\"Error!\")"
   ]
  },
  {
   "cell_type": "code",
   "execution_count": 20,
   "metadata": {
    "collapsed": false
   },
   "outputs": [
    {
     "name": "stdout",
     "output_type": "stream",
     "text": [
      "Brr! It's cold!\n"
     ]
    }
   ],
   "source": [
    "hw3_function(4)"
   ]
  },
  {
   "cell_type": "code",
   "execution_count": 21,
   "metadata": {
    "collapsed": false
   },
   "outputs": [
    {
     "name": "stdout",
     "output_type": "stream",
     "text": [
      "It's pretty warm!\n"
     ]
    }
   ],
   "source": [
    "hw3_function(26)"
   ]
  },
  {
   "cell_type": "code",
   "execution_count": 22,
   "metadata": {
    "collapsed": false
   },
   "outputs": [
    {
     "name": "stdout",
     "output_type": "stream",
     "text": [
      "What a pleasant temperature!\n"
     ]
    }
   ],
   "source": [
    "hw3_function(10)"
   ]
  },
  {
   "cell_type": "code",
   "execution_count": 23,
   "metadata": {
    "collapsed": false
   },
   "outputs": [
    {
     "name": "stdout",
     "output_type": "stream",
     "text": [
      "What a pleasant temperature!\n"
     ]
    }
   ],
   "source": [
    "hw3_function(17)"
   ]
  },
  {
   "cell_type": "code",
   "execution_count": 24,
   "metadata": {
    "collapsed": false
   },
   "outputs": [
    {
     "ename": "TypeError",
     "evalue": "unorderable types: str() < int()",
     "output_type": "error",
     "traceback": [
      "\u001b[0;31m---------------------------------------------------------------------------\u001b[0m",
      "\u001b[0;31mTypeError\u001b[0m                                 Traceback (most recent call last)",
      "\u001b[0;32m<ipython-input-24-862ca76763ca>\u001b[0m in \u001b[0;36m<module>\u001b[0;34m()\u001b[0m\n\u001b[0;32m----> 1\u001b[0;31m \u001b[0mhw3_function\u001b[0m\u001b[0;34m(\u001b[0m\u001b[0;34m\"duck\"\u001b[0m\u001b[0;34m)\u001b[0m\u001b[0;34m\u001b[0m\u001b[0m\n\u001b[0m",
      "\u001b[0;32m<ipython-input-19-93ce41e6ce41>\u001b[0m in \u001b[0;36mhw3_function\u001b[0;34m(integer)\u001b[0m\n\u001b[1;32m      1\u001b[0m \u001b[0;32mdef\u001b[0m \u001b[0mhw3_function\u001b[0m\u001b[0;34m(\u001b[0m\u001b[0minteger\u001b[0m\u001b[0;34m)\u001b[0m\u001b[0;34m:\u001b[0m\u001b[0;34m\u001b[0m\u001b[0m\n\u001b[0;32m----> 2\u001b[0;31m     \u001b[0;32mif\u001b[0m \u001b[0minteger\u001b[0m\u001b[0;34m<\u001b[0m\u001b[0;36m5\u001b[0m\u001b[0;34m:\u001b[0m\u001b[0;34m\u001b[0m\u001b[0m\n\u001b[0m\u001b[1;32m      3\u001b[0m         \u001b[0mprint\u001b[0m \u001b[0;34m(\u001b[0m\u001b[0;34m\"Brr! It's cold!\"\u001b[0m\u001b[0;34m)\u001b[0m\u001b[0;34m\u001b[0m\u001b[0m\n\u001b[1;32m      4\u001b[0m     \u001b[0;32melif\u001b[0m \u001b[0minteger\u001b[0m\u001b[0;34m>\u001b[0m\u001b[0;36m25\u001b[0m\u001b[0;34m:\u001b[0m\u001b[0;34m\u001b[0m\u001b[0m\n\u001b[1;32m      5\u001b[0m         \u001b[0mprint\u001b[0m \u001b[0;34m(\u001b[0m\u001b[0;34m\"It's pretty warm!\"\u001b[0m\u001b[0;34m)\u001b[0m\u001b[0;34m\u001b[0m\u001b[0m\n",
      "\u001b[0;31mTypeError\u001b[0m: unorderable types: str() < int()"
     ]
    }
   ],
   "source": [
    "hw3_function(\"duck\")"
   ]
  },
  {
   "cell_type": "code",
   "execution_count": 29,
   "metadata": {
    "collapsed": false
   },
   "outputs": [
    {
     "name": "stdout",
     "output_type": "stream",
     "text": [
      "['TA', 'T', 'TA', 'C', 'G', 'GA', 'G', 'C', 'T', 'TA', 'T', 'TA']\n"
     ]
    }
   ],
   "source": [
    "import re\n",
    "dna = \"ATAATTAACGGAGCTTATTA\"\n",
    "print (re.findall(pattern=\"GA|TA|TGA|T|G|C\", string=dna))"
   ]
  },
  {
   "cell_type": "code",
   "execution_count": null,
   "metadata": {
    "collapsed": false
   },
   "outputs": [],
   "source": [
    "import random\n",
    "rps = [\"Rock\",\"Paper\",\"Scissors\"]\n",
    "continue_playing = \"true\"\n",
    "while continue_playing == \"true\":\n",
    "    comp_rps = random.choice(rps)\n",
    "    player_rps = input(\"Rock, Paper, or Scissors?\")\n",
    "    print(\"Computer chose\", comp_rps)\n",
    "    if comp_rps == player_rps:\n",
    "        print (\"You picked\", player_rps, \"; Computer picked\", comp_rps, \"; this is a tie!\")\n",
    "    elif player_rps == \"Rock\" and comp_rps == \"Scissors\":\n",
    "        print (\"You picked rock; Computer picked scissors; +1 for You!\")\n",
    "    elif player_rps == \"Rock\" and comp_rps == \"Paper\":\n",
    "        print (\"You picked rock; Computer picked paper; +1 for Computer!\")\n",
    "    elif player_rps == \"Rock\" and comp_rps == \"Rock\":\n",
    "        print (\"You picked rock; Computer picked rock; this is a tie!\")\n",
    "    elif player_rps == \"Paper\" and comp_rps == \"Scissors\":\n",
    "        print (\"You picked paper; Computer picked scissors; +1 for Computer!\")\n",
    "    elif player_rps == \"Paper\" and comp_rps == \"Paper\":\n",
    "        print (\"You picked paper; Computer picked paper; this is a tie!\")\n",
    "    elif player_rps == \"Paper\" and comp_rps == \"Rock\":\n",
    "        print (\"You picked paper; Computer picked rock; +1 for You!\")\n",
    "    elif player_rps == \"Scissors\" and comp_rps == \"Scissors\":\n",
    "        print (\"You picked scissors; Computer picked scissors; this is a tie!\")\n",
    "    elif player_rps == \"Scissors\" and comp_rps == \"Paper\":\n",
    "        print (\"You picked scissors; Computer picked paper; +1 for You!\")\n",
    "    elif player_rps == \"Scissors\" and comp_rps == \"Rock\":\n",
    "        print (\"You picked scissors; Computer picked rock; +1 for Computer!\")\n",
    "    else:\n",
    "        print (\"Please run again properly.\")"
   ]
  }
 ],
 "metadata": {
  "kernelspec": {
   "display_name": "Python 3",
   "language": "python",
   "name": "python3"
  },
  "language_info": {
   "codemirror_mode": {
    "name": "ipython",
    "version": 3
   },
   "file_extension": ".py",
   "mimetype": "text/x-python",
   "name": "python",
   "nbconvert_exporter": "python",
   "pygments_lexer": "ipython3",
   "version": "3.5.2"
  }
 },
 "nbformat": 4,
 "nbformat_minor": 2
}
