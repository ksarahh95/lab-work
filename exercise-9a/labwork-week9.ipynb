{
 "cells": [
  {
   "cell_type": "markdown",
   "metadata": {},
   "source": [
    "# Let's Use Pyrate: questions"
   ]
  },
  {
   "cell_type": "markdown",
   "metadata": {
    "collapsed": true
   },
   "source": [
    "### 1. How many fossils are included in the dataset?\n",
    "\n",
    "2946 fossils - tail -n+2 canid_occ.csv | wc -l\n"
   ]
  },
  {
   "cell_type": "markdown",
   "metadata": {},
   "source": [
    "### 2. How many fossils have been identified to genus-level only? How many to species-level?\n",
    "\n",
    "614 for genus-level - grep genus * | wc -l\n",
    "2107 for species-level - grep species * | wc -l\n"
   ]
  },
  {
   "cell_type": "markdown",
   "metadata": {},
   "source": [
    "### 3. How many unique accepted names are part of this dataset?\n",
    "\n",
    "211 unique accepted names - cut -d ',' -f5 canid_occ.csv | tail -n+2 | sort | uniq"
   ]
  },
  {
   "cell_type": "markdown",
   "metadata": {
    "collapsed": true
   },
   "source": [
    "# Let's Run Pyrate: questions"
   ]
  },
  {
   "cell_type": "markdown",
   "metadata": {},
   "source": [
    "### 1. How can we change the sampling frequency of our PyRate run?\n",
    "-s 1000 to change sampling frequency"
   ]
  },
  {
   "cell_type": "markdown",
   "metadata": {},
   "source": [
    "###    2. What does the -n flag achieve?\n",
    "-n achieves mcmc generations"
   ]
  },
  {
   "cell_type": "markdown",
   "metadata": {},
   "source": [
    "# Summarizing the Output of PyRate: questions"
   ]
  },
  {
   "cell_type": "markdown",
   "metadata": {},
   "source": [
    "### In your jupyter notebook above, write a summary of what each of these three files in pyrate_mcmc_logs show. You can find explanations on the PyRate github page.\n",
    "\n",
    "sum.txt: text file that shows the complete settings list in the analysis.\n",
    "\n",
    "mcmc.log: tab-separated table incuding mcmc samples of preservation process and birth-death, the preservation rate, shape parameter of heterogeneity, number of sampled rate shifts, time of origin of oldest lineage, the total branch length, and times of extinction/speciation of all taxa in the data.\n",
    "\n",
    "\n",
    "marginal_rates.log: tab-separated table including posterior samples of marginal rates for extinction, speciation, and net diversification."
   ]
  },
  {
   "cell_type": "markdown",
   "metadata": {
    "collapsed": true
   },
   "source": [
    "# HOMEWORK"
   ]
  },
  {
   "cell_type": "markdown",
   "metadata": {},
   "source": [
    "Question 1:\n",
    "a) Describe the changes in speciation rates across the Canidae lineage.\n",
    "b) Describe the changes in extinction rates across the Canidae lineage.\n",
    "c) Describe the changes in diversification rates across the Canidae lineage."
   ]
  }
 ],
 "metadata": {
  "kernelspec": {
   "display_name": "Python 3",
   "language": "python",
   "name": "python3"
  },
  "language_info": {
   "codemirror_mode": {
    "name": "ipython",
    "version": 3
   },
   "file_extension": ".py",
   "mimetype": "text/x-python",
   "name": "python",
   "nbconvert_exporter": "python",
   "pygments_lexer": "ipython3",
   "version": "3.5.2"
  }
 },
 "nbformat": 4,
 "nbformat_minor": 2
}
