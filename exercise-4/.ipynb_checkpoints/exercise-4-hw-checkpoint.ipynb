{
 "cells": [
  {
   "cell_type": "code",
   "execution_count": 7,
   "metadata": {
    "collapsed": false
   },
   "outputs": [
    {
     "name": "stdout",
     "output_type": "stream",
     "text": [
      "100\n",
      "101\n",
      "102\n",
      "103\n",
      "104\n",
      "105\n",
      "106\n",
      "107\n",
      "108\n",
      "109\n",
      "110\n"
     ]
    }
   ],
   "source": [
    "for number in range(100,111,1):\n",
    "    print (number)"
   ]
  },
  {
   "cell_type": "code",
   "execution_count": 8,
   "metadata": {
    "collapsed": false
   },
   "outputs": [
    {
     "name": "stdout",
     "output_type": "stream",
     "text": [
      "100\n",
      "101\n",
      "102\n",
      "103\n",
      "104\n",
      "105\n",
      "106\n",
      "107\n",
      "108\n",
      "109\n",
      "110\n"
     ]
    }
   ],
   "source": [
    "number = 100\n",
    "while number < 111:\n",
    "    print (number)\n",
    "    number = number + 1\n",
    "    "
   ]
  },
  {
   "cell_type": "code",
   "execution_count": 9,
   "metadata": {
    "collapsed": false
   },
   "outputs": [
    {
     "name": "stdout",
     "output_type": "stream",
     "text": [
      "[100, 121, 144, 169, 196, 225]\n"
     ]
    }
   ],
   "source": [
    "list_of_squares = []\n",
    "for number in (range(10,16,1)):\n",
    "    square = number**2\n",
    "    list_of_squares.append(square)\n",
    "print(list_of_squares)"
   ]
  },
  {
   "cell_type": "code",
   "execution_count": 10,
   "metadata": {
    "collapsed": false
   },
   "outputs": [
    {
     "name": "stdout",
     "output_type": "stream",
     "text": [
      "Scooby is a character in that most glorious of cartoons, Scooby Doo.\n",
      "Shaggy is a character in that most glorious of cartoons, Scooby Doo.\n",
      "Velma is a character in that most glorious of cartoons, Scooby Doo.\n",
      "Daphne is a character in that most glorious of cartoons, Scooby Doo.\n",
      "Fred is a character in that most glorious of cartoons, Scooby Doo.\n"
     ]
    }
   ],
   "source": [
    "scooby_list = [\"Scooby\", \"Shaggy\", \"Velma\", \"Daphne\", \"Fred\"]\n",
    "for character in scooby_list:\n",
    "    print(character + str(\" is a character in that most glorious of cartoons, Scooby Doo.\"))"
   ]
  },
  {
   "cell_type": "code",
   "execution_count": 15,
   "metadata": {
    "collapsed": false
   },
   "outputs": [],
   "source": [
    "def fact_or_sum(a):\n",
    "    if(type(a) == str):\n",
    "        print(\"You have an error.\")\n",
    "    elif (a == 0):\n",
    "        print(a)\n",
    "    elif(a%2 != 0):\n",
    "        n = 1\n",
    "        for g in (range(a, 0, -1)):\n",
    "            n = n * g\n",
    "        print(n)\n",
    "    elif(a%2 == 0):\n",
    "        y = 0\n",
    "        while a > 0:\n",
    "            y = y + a\n",
    "            a = a - 1\n",
    "        print(y)"
   ]
  },
  {
   "cell_type": "code",
   "execution_count": 16,
   "metadata": {
    "collapsed": false
   },
   "outputs": [
    {
     "name": "stdout",
     "output_type": "stream",
     "text": [
      "10\n"
     ]
    }
   ],
   "source": [
    "fact_or_sum(4)"
   ]
  },
  {
   "cell_type": "code",
   "execution_count": 17,
   "metadata": {
    "collapsed": false
   },
   "outputs": [
    {
     "name": "stdout",
     "output_type": "stream",
     "text": [
      "You have an error.\n"
     ]
    }
   ],
   "source": [
    "fact_or_sum(\"hello\")"
   ]
  },
  {
   "cell_type": "code",
   "execution_count": null,
   "metadata": {
    "collapsed": true
   },
   "outputs": [],
   "source": []
  }
 ],
 "metadata": {
  "kernelspec": {
   "display_name": "Python 3",
   "language": "python",
   "name": "python3"
  },
  "language_info": {
   "codemirror_mode": {
    "name": "ipython",
    "version": 3
   },
   "file_extension": ".py",
   "mimetype": "text/x-python",
   "name": "python",
   "nbconvert_exporter": "python",
   "pygments_lexer": "ipython3",
   "version": "3.5.2"
  }
 },
 "nbformat": 4,
 "nbformat_minor": 2
}
